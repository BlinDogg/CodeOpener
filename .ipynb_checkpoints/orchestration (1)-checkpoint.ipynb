{
 "cells": [
  {
   "cell_type": "code",
   "execution_count": null,
   "id": "5479bc71",
   "metadata": {},
   "outputs": [],
   "source": [
    "import json\n",
    "import pandas as pd"
   ]
  },
  {
   "cell_type": "code",
   "execution_count": null,
   "id": "0b7bad47",
   "metadata": {},
   "outputs": [],
   "source": [
    "with open('advego_workflow.json') as json_file:\n",
    "    workflow = json.load(json_file)"
   ]
  },
  {
   "cell_type": "code",
   "execution_count": null,
   "id": "40d5f4c5",
   "metadata": {},
   "outputs": [],
   "source": [
    "user = pd.DataFrame(columns = ['parameter', 'value'])\n",
    "user.loc[0] = ['name', 'Konstantin Nikitin']\n",
    "user.loc[1] = ['email', 'konstantin.nikitin@frtk.ru']\n",
    "user.loc[2] = ['password', '******']\n",
    "user.loc[3] = ['news-checkbox', False]\n",
    "user.loc[4] = ['age', 21]\n",
    "user.loc[5] = ['employed', True]\n",
    "user.loc[6] = ['sex', 'Male']\n",
    "user.loc[7] = ['position', 'System Analyst']\n",
    "user.loc[8] = ['hobby', 'piano']\n",
    "user.loc[9] = ['married', False]\n",
    "user"
   ]
  },
  {
   "cell_type": "code",
   "execution_count": null,
   "id": "7c7f344b",
   "metadata": {},
   "outputs": [],
   "source": [
    "def runWorkflow(workflow):\n",
    "    task_number = 1\n",
    "    context = 0\n",
    "    while (task_number != 0):\n",
    "        task_index = findIndexByNumber(workflow, task_number)\n",
    "        ifSuccess, context = runTask(workflow['tasks'][task_index], context)\n",
    "        if (ifSuccess == True):\n",
    "            task_number = workflow['tasks'][task_index]['on-success']\n",
    "        else:\n",
    "            task_number = workflow['tasks'][task_index]['on-error']\n",
    "    return 0"
   ]
  },
  {
   "cell_type": "code",
   "execution_count": null,
   "id": "155348e9",
   "metadata": {},
   "outputs": [],
   "source": [
    "workflow['tasks'][findIndexByNumber(workflow, 3)]"
   ]
  },
  {
   "cell_type": "code",
   "execution_count": null,
   "id": "cbfb6a51",
   "metadata": {},
   "outputs": [],
   "source": [
    "def runTask(task, context):\n",
    "    print('Running Task: ' + task['name'] + ' (' + str(task['number']) + ')')\n",
    "    \n",
    "    if (task['name'] == 'Open Link'):\n",
    "        ifSuccess, context = openLink(task['parameters'], context)\n",
    "    elif (task['name'] == 'Set Fields'):\n",
    "        ifSuccess, context = setFields(task['parameters'], context)\n",
    "    elif (task['name'] == 'Press Button'):\n",
    "        ifSuccess, context = pressButton(task['parameters'], context)\n",
    "    elif (task['name'] == 'Return Error'):\n",
    "        ifSuccess, context = returnError(task['parameters'], context)\n",
    "    elif (task['name'] == 'Finish'):\n",
    "        ifSuccess, context = finish(task['parameters'], context)\n",
    "    else:\n",
    "        print('WTF?')\n",
    "        \n",
    "    print()\n",
    "    return ifSuccess, context"
   ]
  },
  {
   "cell_type": "code",
   "execution_count": null,
   "id": "ac0c22c1",
   "metadata": {},
   "outputs": [],
   "source": [
    "def openLink(parameters, context):\n",
    "    url = parameters[0]['url']\n",
    "    print('System opens link ' + url)\n",
    "    return True, context\n",
    "\n",
    "def setFields(parameters, context):\n",
    "    print(parameters)\n",
    "    for element in parameters:\n",
    "        parameter_value = user[user['parameter'] == element['parameter']]['value'].values[0]\n",
    "        print('Set value ' + str(parameter_value) + ' to field with id = ' + element['id'])\n",
    "    return True, context\n",
    "\n",
    "def pressButton(parameters, context):\n",
    "    print('Click on button ' + parameters[0]['name'] + ' and id = ' + parameters[0]['id'])\n",
    "    return True, context\n",
    "\n",
    "def returnError(parameters, context):\n",
    "    print(parameters[0]['text'])\n",
    "    return True, context\n",
    "    \n",
    "def finish(parameters, context):\n",
    "    print(parameters[0]['text'])\n",
    "    return True, context"
   ]
  },
  {
   "cell_type": "code",
   "execution_count": null,
   "id": "ecabad75",
   "metadata": {},
   "outputs": [],
   "source": [
    "def findIndexByNumber(workflow, number):\n",
    "    l = len(workflow['tasks'])\n",
    "    for i in range(l):\n",
    "        if (workflow['tasks'][i]['number'] == number):\n",
    "            return i\n",
    "    print('Absent task number')\n",
    "    return 0"
   ]
  },
  {
   "cell_type": "code",
   "execution_count": null,
   "id": "794de0c1",
   "metadata": {
    "scrolled": true
   },
   "outputs": [],
   "source": [
    "runWorkflow(workflow)"
   ]
  },
  {
   "cell_type": "code",
   "execution_count": null,
   "id": "641ca325",
   "metadata": {},
   "outputs": [],
   "source": []
  }
 ],
 "metadata": {
  "kernelspec": {
   "display_name": "Python 3 (ipykernel)",
   "language": "python",
   "name": "python3"
  },
  "language_info": {
   "codemirror_mode": {
    "name": "ipython",
    "version": 3
   },
   "file_extension": ".py",
   "mimetype": "text/x-python",
   "name": "python",
   "nbconvert_exporter": "python",
   "pygments_lexer": "ipython3",
   "version": "3.8.9"
  }
 },
 "nbformat": 4,
 "nbformat_minor": 5
}
